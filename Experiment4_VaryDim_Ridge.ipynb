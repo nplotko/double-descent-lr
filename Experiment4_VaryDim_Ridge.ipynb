{
  "nbformat": 4,
  "nbformat_minor": 0,
  "metadata": {
    "colab": {
      "name": "Experiment4_VaryDim_Ridge.ipynb",
      "provenance": []
    },
    "kernelspec": {
      "name": "python3",
      "display_name": "Python 3"
    },
    "language_info": {
      "name": "python"
    },
    "accelerator": "GPU"
  },
  "cells": [
    {
      "cell_type": "code",
      "execution_count": 1,
      "metadata": {
        "id": "IMOlKbz3VrCL"
      },
      "outputs": [],
      "source": [
        "%matplotlib inline\n",
        "import matplotlib.pyplot as plt\n",
        "import torch"
      ]
    },
    {
      "cell_type": "code",
      "source": [
        "device = torch.device(\"cuda:0\")\n",
        "print(torch.cuda.is_available())\n",
        "print(torch.cuda.get_device_name(torch.cuda.current_device()))\n",
        "torch.set_default_tensor_type('torch.cuda.FloatTensor')"
      ],
      "metadata": {
        "colab": {
          "base_uri": "https://localhost:8080/"
        },
        "id": "qFIcPeMVVvwE",
        "outputId": "74bbd756-ef47-4045-b325-da3c8bedf165"
      },
      "execution_count": 2,
      "outputs": [
        {
          "output_type": "stream",
          "name": "stdout",
          "text": [
            "True\n",
            "Tesla T4\n"
          ]
        }
      ]
    },
    {
      "cell_type": "markdown",
      "source": [
        "# Ridge Regression"
      ],
      "metadata": {
        "id": "ryFeNRjZVxnm"
      }
    },
    {
      "cell_type": "markdown",
      "source": [
        "Only using one sigma here because we've seen the effect of noise"
      ],
      "metadata": {
        "id": "JbSGpx_ZWXjq"
      }
    },
    {
      "cell_type": "code",
      "source": [
        "sigma1 = 0.5 #SNR = 4\n",
        "sigma2 = 1 #SNR = 1\n",
        "sigma3 = 0.1\n",
        "\n",
        "sigmas = [sigma1,sigma2,sigma3]\n",
        "\n",
        "lambdas = torch.tensor([1e-6,1e-4,1e-2,1e-1,1,10])"
      ],
      "metadata": {
        "id": "9IOMlqCOV4JR"
      },
      "execution_count": 39,
      "outputs": []
    },
    {
      "cell_type": "markdown",
      "source": [
        "We will have to use cross-validation to pick the optimal lambda"
      ],
      "metadata": {
        "id": "gI8aIOonWGuj"
      }
    },
    {
      "cell_type": "markdown",
      "source": [
        "## 200 Samples"
      ],
      "metadata": {
        "id": "Gg0QqfKYVzYI"
      }
    },
    {
      "cell_type": "code",
      "source": [
        "n = 200\n",
        "\n",
        "small_d = torch.arange(5,170,5)\n",
        "around_n = torch.arange(170,196,2)\n",
        "around_n_greater = torch.arange(196,204,1)\n",
        "large_d = torch.arange(204,250,2)\n",
        "larger_d = torch.arange(250,500,5)\n",
        "largest_d = torch.arange(500,700,10)\n",
        "\n",
        "\n",
        "d_vals = torch.cat([small_d,around_n,around_n_greater,large_d,larger_d,largest_d])\n",
        "print(d_vals.size()[0])\n",
        "M = d_vals.size()[0]\n",
        "\n",
        "sim = 35"
      ],
      "metadata": {
        "colab": {
          "base_uri": "https://localhost:8080/"
        },
        "id": "MxvKWNfwV2Ld",
        "outputId": "051935e6-8b33-484f-e5a1-0d915fba006a"
      },
      "execution_count": 41,
      "outputs": [
        {
          "output_type": "stream",
          "name": "stdout",
          "text": [
            "147\n"
          ]
        }
      ]
    },
    {
      "cell_type": "code",
      "source": [
        "CV = lambdas.size()[0]\n",
        "\n",
        "opt_lambdas_s1 = torch.zeros((M,))\n",
        "opt_lambdas_s2 = torch.zeros((M,))\n",
        "opt_lambdas_s3 = torch.zeros((M,))\n",
        "\n",
        "opt_lambdas = [opt_lambdas_s1, opt_lambdas_s2, opt_lambdas_s3]\n",
        "\n",
        "print(CV)"
      ],
      "metadata": {
        "colab": {
          "base_uri": "https://localhost:8080/"
        },
        "id": "rn8OeGABWLjI",
        "outputId": "197d33fe-0886-43a3-8bf1-8ae4746bad23"
      },
      "execution_count": 42,
      "outputs": [
        {
          "output_type": "stream",
          "name": "stdout",
          "text": [
            "6\n"
          ]
        }
      ]
    },
    {
      "cell_type": "code",
      "source": [
        "# Creating X and Y for each dimension and running CV to pick lambda\n",
        "n_test = 200\n",
        "\n",
        "for s in range(3):\n",
        "  for i in range(M):\n",
        "    lam_mses = torch.zeros((CV,))\n",
        "    for l in range(CV):\n",
        "      d = int(d_vals[i])\n",
        "      mean = torch.zeros((d,))\n",
        "      Id = torch.eye(d) #Identity matrix for multivariate normal std\n",
        "      norm = torch.distributions.multivariate_normal.MultivariateNormal(mean, Id)\n",
        "      X = norm.sample((n,)) #X data\n",
        "      X2 = norm.sample((n_test,)) #X test\n",
        "\n",
        "      beta = torch.rand(d)  #Arbitrary beta\n",
        "      beta = beta / torch.linalg.norm(beta)  #making sure norm = 1\n",
        "  \n",
        "      noise = torch.normal(torch.zeros((n,)), torch.full((n,), sigmas[s]))\n",
        "      noise2 = torch.normal(torch.zeros((n_test,)), torch.full((n_test,), sigmas[s]))\n",
        "\n",
        "      Y = torch.matmul(X,beta) + noise     #Calculating Y from X\n",
        "      Y2 = torch.matmul(X2,beta) + noise2   #Test Y\n",
        "\n",
        "      if n < d:\n",
        "        p1 = torch.matmul(torch.t(X),X) + lambdas[l]*Id\n",
        "        p2 = torch.linalg.pinv(p1)\n",
        "        beta_hat = torch.matmul(p2,torch.matmul(torch.t(X),Y))\n",
        "      else:\n",
        "        p1 = torch.matmul(torch.t(X),X) + lambdas[l]*Id\n",
        "        p2 = torch.linalg.inv(p1)\n",
        "        beta_hat = torch.matmul(p2,torch.matmul(torch.t(X),Y))\n",
        "\n",
        "      test_pred = torch.matmul(X2,beta_hat)\n",
        "      lam_mses[l] = torch.mean((Y2 - test_pred)**2)\n",
        "    min_mse = torch.argmin(lam_mses)\n",
        "    opt_lambdas[s][i] = lambdas[min_mse]\n",
        "    "
      ],
      "metadata": {
        "id": "bFn1jHzMV64x"
      },
      "execution_count": 43,
      "outputs": []
    },
    {
      "cell_type": "code",
      "source": [
        "mse1 = torch.zeros((M,sim))\n",
        "mse2 = torch.zeros((M,sim))\n",
        "mse3 = torch.zeros((M,sim))"
      ],
      "metadata": {
        "id": "xFOY-oxKBsP2"
      },
      "execution_count": 44,
      "outputs": []
    },
    {
      "cell_type": "code",
      "source": [
        "# Creating X and Y for each dimension and running 15 simulations\n",
        "\n",
        "for s in range(3):\n",
        "  for i in range(M):\n",
        "    for j in range(sim):\n",
        "      mean = torch.zeros((d_vals[i],))\n",
        "      Id = torch.eye(d_vals[i]) #Identity matrix for multivariate normal std\n",
        "      norm = torch.distributions.multivariate_normal.MultivariateNormal(mean, Id)\n",
        "      X = norm.sample((n,)) #X data\n",
        "      X2 = norm.sample((n,)) #X test\n",
        "\n",
        "      beta = torch.rand(d_vals[i])  #Arbitrary beta\n",
        "      beta = beta / torch.linalg.norm(beta)  #making sure norm = 1\n",
        "  \n",
        "      noise = torch.normal(torch.zeros((n,)), torch.full((n,), sigmas[s]))\n",
        "      noise2 = torch.normal(torch.zeros((n,)), torch.full((n,), sigmas[s]))\n",
        "\n",
        "      Y = torch.matmul(X,beta) + noise     #Calculating Y from X\n",
        "      Y2 = torch.matmul(X2,beta) + noise2   #Test Y\n",
        "    \n",
        "      lam = opt_lambdas[s][i]\n",
        "\n",
        "      if n < d_vals[i]:\n",
        "        p1 = torch.matmul(torch.t(X),X) + lam*Id\n",
        "        p2 = torch.linalg.pinv(p1)\n",
        "        beta_hat = torch.matmul(p2,torch.matmul(torch.t(X),Y))\n",
        "      else:\n",
        "        p1 = torch.matmul(torch.t(X),X) + lam*Id\n",
        "        p2 = torch.linalg.inv(p1)\n",
        "        beta_hat = torch.matmul(p2,torch.matmul(torch.t(X),Y))\n",
        "\n",
        "      test_pred = torch.matmul(X2,beta_hat)\n",
        "      if s == 0:\n",
        "        mse1[i,j] = torch.mean((Y2 - test_pred)**2)\n",
        "      elif s == 1:\n",
        "        mse2[i,j] = torch.mean((Y2 - test_pred)**2)\n",
        "      else:\n",
        "        mse3[i,j] = torch.mean((Y2 - test_pred)**2)\n",
        "\n"
      ],
      "metadata": {
        "id": "vERMCQ5aBFNR"
      },
      "execution_count": 45,
      "outputs": []
    },
    {
      "cell_type": "code",
      "source": [
        "avgs1 = torch.mean(mse1, 1) #SNR 4 bc sigma 0.5\n",
        "avgs2 = torch.mean(mse2, 1) #SNR 1 bc sigma 1\n",
        "avgs3 = torch.mean(mse3, 1) #SNR 100 bs sigma 0.1\n",
        "\n",
        "\n",
        "plt.figure(figsize=(7,6))\n",
        "plt.title(\"Test Risk vs Dimensions for Ridge (200 Samples)\")\n",
        "plt.xlabel(\"# Dimensions\")\n",
        "plt.ylabel(\"Test MSE\")\n",
        "lw = 2\n",
        "plt.ylim(0,5)\n",
        "plt.xlim(0,700)\n",
        "plt.plot(d_vals.cpu().numpy(), avgs1.cpu().numpy(),\n",
        "         color='blue', label='SNR = 4')\n",
        "plt.plot(d_vals.cpu().numpy(), avgs2.cpu().numpy(),\n",
        "         color='orange', label='SNR = 1')\n",
        "plt.plot(d_vals.cpu().numpy(), avgs3.cpu().numpy(),\n",
        "         color='green', label='SNR = 100')\n",
        "\n",
        "plt.xticks(torch.arange(0,701,step=100).cpu().numpy())\n",
        "plt.plot()\n",
        "plt.legend(loc=\"best\")\n",
        "plt.show()"
      ],
      "metadata": {
        "colab": {
          "base_uri": "https://localhost:8080/",
          "height": 404
        },
        "id": "fyizPdVtCD27",
        "outputId": "27b65b28-6487-4cfb-a283-e47553c27912"
      },
      "execution_count": 47,
      "outputs": [
        {
          "output_type": "display_data",
          "data": {
            "text/plain": [
              "<Figure size 504x432 with 1 Axes>"
            ],
            "image/png": "[encoded data removed]"
          },
          "metadata": {
            "needs_background": "light"
          }
        }
      ]
    }
  ]
}